{
 "cells": [
  {
   "cell_type": "code",
   "execution_count": 1,
   "metadata": {},
   "outputs": [],
   "source": [
    "from bs4 import BeautifulSoup as soup"
   ]
  },
  {
   "cell_type": "code",
   "execution_count": 2,
   "metadata": {},
   "outputs": [],
   "source": [
    "from urllib.request import urlopen as uReq"
   ]
  },
  {
   "cell_type": "code",
   "execution_count": 3,
   "metadata": {},
   "outputs": [],
   "source": [
    "my_url = 'https://www.reddoko.com/search?keyword=samsung'"
   ]
  },
  {
   "cell_type": "code",
   "execution_count": 4,
   "metadata": {},
   "outputs": [],
   "source": [
    "uClient = uReq(my_url)\n",
    "page_html = uClient.read()"
   ]
  },
  {
   "cell_type": "code",
   "execution_count": 5,
   "metadata": {},
   "outputs": [],
   "source": [
    "uClient.close()"
   ]
  },
  {
   "cell_type": "code",
   "execution_count": 6,
   "metadata": {},
   "outputs": [],
   "source": [
    "page_soup = soup(page_html, \"html.parser\")"
   ]
  },
  {
   "cell_type": "code",
   "execution_count": 7,
   "metadata": {},
   "outputs": [
    {
     "name": "stdout",
     "output_type": "stream",
     "text": [
      "40\n"
     ]
    }
   ],
   "source": [
    "containers = page_soup.findAll(\"div\", {\"class\": \"productinfo\"})\n",
    "print(len(containers))"
   ]
  },
  {
   "cell_type": "code",
   "execution_count": 8,
   "metadata": {},
   "outputs": [],
   "source": [
    "container = containers[0]"
   ]
  },
  {
   "cell_type": "code",
   "execution_count": 9,
   "metadata": {},
   "outputs": [],
   "source": [
    "Product = (container.p[\"title\"])"
   ]
  },
  {
   "cell_type": "code",
   "execution_count": 10,
   "metadata": {},
   "outputs": [],
   "source": [
    "old_price = container.findAll(\"strike\")"
   ]
  },
  {
   "cell_type": "code",
   "execution_count": 11,
   "metadata": {},
   "outputs": [
    {
     "name": "stdout",
     "output_type": "stream",
     "text": [
      "Rs 18900 \n"
     ]
    }
   ],
   "source": [
    "print(old_price[0].text)"
   ]
  },
  {
   "cell_type": "code",
   "execution_count": 12,
   "metadata": {},
   "outputs": [],
   "source": [
    "new_price = container.findAll(\"span\",{\"class\": \"\"})"
   ]
  },
  {
   "cell_type": "code",
   "execution_count": 13,
   "metadata": {},
   "outputs": [
    {
     "name": "stdout",
     "output_type": "stream",
     "text": [
      "Rs 18000\n"
     ]
    }
   ],
   "source": [
    "print(new_price[0].text)"
   ]
  },
  {
   "cell_type": "code",
   "execution_count": 14,
   "metadata": {},
   "outputs": [],
   "source": [
    "discount = container.findAll(\"span\",{\"class\": \"price_offer\"})"
   ]
  },
  {
   "cell_type": "code",
   "execution_count": 15,
   "metadata": {},
   "outputs": [
    {
     "name": "stdout",
     "output_type": "stream",
     "text": [
      "5 % off\n"
     ]
    }
   ],
   "source": [
    "print(discount[0].text)"
   ]
  },
  {
   "cell_type": "code",
   "execution_count": 16,
   "metadata": {},
   "outputs": [],
   "source": [
    "filename = \"product.csv\""
   ]
  },
  {
   "cell_type": "code",
   "execution_count": 17,
   "metadata": {},
   "outputs": [],
   "source": [
    "f = open(filename, \"w\")"
   ]
  },
  {
   "cell_type": "code",
   "execution_count": 18,
   "metadata": {},
   "outputs": [],
   "source": [
    "headers = \"Product, Old price, New_price, Discount\\n\""
   ]
  },
  {
   "cell_type": "code",
   "execution_count": 19,
   "metadata": {},
   "outputs": [
    {
     "data": {
      "text/plain": [
       "40"
      ]
     },
     "execution_count": 19,
     "metadata": {},
     "output_type": "execute_result"
    }
   ],
   "source": [
    "f.write(headers)"
   ]
  },
  {
   "cell_type": "code",
   "execution_count": 20,
   "metadata": {},
   "outputs": [
    {
     "name": "stdout",
     "output_type": "stream",
     "text": [
      "Product: Samsung Galaxy J Max Tablet\n",
      "Old Price: Rs 18900\n",
      "New price: Rs 18000\n",
      "Discount offer: 5 % off\n",
      "\n",
      "\n",
      "Product: Samsung Galaxy A6 (Black, 32GB)\n",
      "Old Price: Rs 39890\n",
      "New price: Rs 37895\n",
      "Discount offer: 5 % off\n",
      "\n",
      "\n",
      "Product: Samsung Microwave Convection 21ltr\n",
      "Old Price: Rs 23490\n",
      "New price: Rs 22500\n",
      "Discount offer: 4 % off\n",
      "\n",
      "\n",
      "Product: Samsung 28 L Convection Microwave Oven (MC28H5025VK, Black\n",
      "Old Price: Rs 29990\n",
      "New price: Rs 26991\n",
      "Discount offer: 10 % off\n",
      "\n",
      "\n",
      "Product: Samsung Cannister Vacuum Cleaner (VC18M3110VB)-1800 W\n",
      "Old Price: Rs 11590\n",
      "New price: Rs 10431\n",
      "Discount offer: 10 % off\n",
      "\n",
      "\n",
      "Product: Samsung RR19J2103SE Standing Refrigerator 192L- Silver\n",
      "Old Price: Rs 26990\n",
      "New price: Rs 22900\n",
      "Discount offer: 15 % off\n",
      "\n",
      "\n",
      "Product: Samsung UA24H4003 24\" HD LED TV\n",
      "Old Price: Rs 23390\n",
      "New price: Rs 20160\n",
      "Discount offer: 14 % off\n",
      "\n",
      "\n",
      "Product: Samsung UA43K5100 43\" Full HD LED TV\n",
      "Old Price: Rs 76490\n",
      "New price: Rs 55500\n",
      "Discount offer: 27 % off\n",
      "\n",
      "\n",
      "Product: Samsung UA40K5100ARSHE 40\" Full HD LED TV\n",
      "Old Price: Rs 66990\n",
      "New price: Rs 51250\n",
      "Discount offer: 23 % off\n",
      "\n",
      "\n",
      "Product: Samsung UA32M4100ARSHE 32\" HD LED TV\n",
      "Old Price: Rs 44990\n",
      "New price: Rs 35200\n",
      "Discount offer: 22 % off\n",
      "\n",
      "\n",
      "Product: Samsung UA55M5500ARSHE 55\" Full HD Smart TV\n",
      "Old Price: Rs 179990\n",
      "New price: Rs 133300\n",
      "Discount offer: 26 % off\n",
      "\n",
      "\n",
      "Product: Samsung Galaxy Note 8 (6GB RAM, 64GB ROM)\n",
      "Old Price: Rs 96900\n",
      "New price: Rs 92055\n",
      "Discount offer: 5 % off\n",
      "\n",
      "\n",
      "Product: Samsung Galaxy J6 (2018) (3GB /32 GB)\n",
      "Old Price: Rs 24790\n",
      "New price: Rs 23550\n",
      "Discount offer: 5 % off\n",
      "\n",
      "\n",
      "Product: Samsung Microwave, 23 Litre, 800 Watt, Black\n",
      "Old Price: Rs 15990\n",
      "New price: Rs 14391\n",
      "Discount offer: 10 % off\n",
      "\n",
      "\n",
      "Product: Samsung MO Convection 21Ltr (CE76JD-CR)\n",
      "Old Price: Rs 22990\n",
      "New price: Rs 22500\n",
      "Discount offer: 2 % off\n",
      "\n",
      "\n",
      "Product: Samsung Refrigerator Single Door with Stand\n",
      "Old Price: Rs 32990\n",
      "New price: Rs 27500\n",
      "Discount offer: 17 % off\n",
      "\n",
      "\n",
      "Product: Samsung 32M4000 32\" HD LED TV\n",
      "Old Price: Rs 39900\n",
      "New price: Rs 32398\n",
      "Discount offer: 19 % off\n",
      "\n",
      "\n",
      "Product: Samsung J1 Ace Smartphones - J110H\n",
      "Old Price: Rs 9390\n",
      "New price: Rs 8921\n",
      "Discount offer: 5 % off\n",
      "\n",
      "\n",
      "Product: Samsung Galaxy S8+ (4GB RAM, 64GB ROM)\n",
      "Old Price: Rs 79900\n",
      "New price: Rs 75905\n",
      "Discount offer: 5 % off\n",
      "\n",
      "\n",
      "Product: Samsung Galaxy J7 Nxt (32GB) (3GB RAM)\n",
      "Old Price: Rs 20990\n",
      "New price: Rs 19940\n",
      "Discount offer: 5 % off\n",
      "\n",
      "\n",
      "Product: Samsung UA32FH4003 32\" HD Ready LED TV\n",
      "Old Price: Rs 35390\n",
      "New price: Rs 29900\n",
      "Discount offer: 16 % off\n",
      "\n",
      "\n",
      "Product: Samsung Galaxy A6 Plus (4GB RAM, 64GB)\n",
      "Old Price: Rs 44390\n",
      "New price: Rs 42170\n",
      "Discount offer: 5 % off\n",
      "\n",
      "\n",
      "Product: Samsung UA32M4100ARSHE 32 Inch HD LED TV\n",
      "Old Price: Rs 44990\n",
      "New price: Rs 35200\n",
      "Discount offer: 22 % off\n",
      "\n",
      "\n",
      "Product: Samsung RR22M284ZR3/U3 Refrigerator With Stand- 212Ltr\n",
      "Old Price: Rs 39990\n",
      "New price: Rs 34791\n",
      "Discount offer: 13 % off\n",
      "\n",
      "\n",
      "Product: Samsung UA32M4000ARSHE 32\" HD LED TV Black\n",
      "Old Price: Rs 39990\n",
      "New price: Rs 32000\n",
      "Discount offer: 20 % off\n",
      "\n",
      "\n",
      "Product: Samsung UA32M4010ARSHE 32\" HD LED TV - (Black)\n",
      "Old Price: Rs 39990\n",
      "New price: Rs 32000\n",
      "Discount offer: 20 % off\n",
      "\n",
      "\n",
      "Product: Samsung 40M5000 40\" Full HD LED TV\n",
      "Old Price: Rs 66990\n",
      "New price: Rs 51798\n",
      "Discount offer: 23 % off\n",
      "\n",
      "\n",
      "Product: Samsung 32M4100 32\" HD Ready LED TV\n",
      "Old Price: Rs 44990\n",
      "New price: Rs 35599\n",
      "Discount offer: 21 % off\n",
      "\n",
      "\n",
      "Product: Samsung UA32M4300ARSHE 32'' Smart LED TV - Black\n",
      "Old Price: Rs 50990\n",
      "New price: Rs 41700\n",
      "Discount offer: 18 % off\n",
      "\n",
      "\n",
      "Product: Samsung Galaxy J7 Prime 2 (4GB RAM, 64GB)-Black\n",
      "Old Price: Rs 27990\n",
      "New price: Rs 26590\n",
      "Discount offer: 5 % off\n",
      "\n",
      "\n",
      "Product: Samsung Galaxy S8 (4GB RAM, 64GB ROM)-Midnight Black\n",
      "Old Price: Rs 69900\n",
      "New price: Rs 66405\n",
      "Discount offer: 5 % off\n",
      "\n",
      "\n",
      "Product: Samsung Galaxy Note 8 (6GB Ram, 64GB Rom)-Midnight Black\n",
      "Old Price: Rs 96900\n",
      "New price: Rs 92055\n",
      "Discount offer: 5 % off\n",
      "\n",
      "\n",
      "Product: Samsung UA55K6300ARSHE 55 Inch Curved Full HD Smart TV\n",
      "Old Price: Rs 214990\n",
      "New price: Rs 150200\n",
      "Discount offer: 30 % off\n",
      "\n",
      "\n",
      "Product: Samsung UA32M4300 32 Inch Smart LED TV - Black\n",
      "Old Price: Rs 50990\n",
      "New price: Rs 41500\n",
      "Discount offer: 19 % off\n",
      "\n",
      "\n",
      "Product: Samsung 24 Inch HD Flat TV H4003 Series 4\n",
      "Old Price: Rs 23390\n",
      "New price: Rs 20000\n",
      "Discount offer: 14 % off\n",
      "\n",
      "\n",
      "Product: Samsung 50 inch UHD 4K Smart TV MU6100 Series 6\n",
      "Old Price: Rs 159990\n",
      "New price: Rs 127264\n",
      "Discount offer: 20 % off\n",
      "\n",
      "\n",
      "Product: Samsung UA32M4000ARSHE 32 Inch HD LED TV Black\n",
      "Old Price: Rs 39990\n",
      "New price: Rs 32398\n",
      "Discount offer: 19 % off\n",
      "\n",
      "\n",
      "Product: Samsung 43 Inch Full HD Flat Smart TV K5300 Series 5\n",
      "Old Price: Rs 79990\n",
      "New price: Rs 63729\n",
      "Discount offer: 20 % off\n",
      "\n",
      "\n",
      "Product: Samsung UA32K4000ARSHE 32 Inch 768p HD Flat LED TV Black\n",
      "Old Price: Rs 39990\n",
      "New price: Rs 32000\n",
      "Discount offer: 20 % off\n",
      "\n",
      "\n",
      "Product: Samsung UA50KU6000ARSHE 50 Inch Ultra HD Smart TV\n",
      "Old Price: Rs 159990\n",
      "New price: Rs 122650\n",
      "Discount offer: 23 % off\n",
      "\n",
      "\n"
     ]
    }
   ],
   "source": [
    "for container in containers:\n",
    "    Product = (container.p[\"title\"])\n",
    "    old_price = container.findAll(\"strike\")\n",
    "    old_price = old_price[0].text.strip()\n",
    "    new_price = container.findAll(\"span\",{\"class\": \"\"})\n",
    "    new_price = new_price[0].text.strip()\n",
    "    discount = container.findAll(\"span\",{\"class\": \"price_offer\"})\n",
    "    discount = discount[0].text\n",
    "    print(\"Product: \" +Product)\n",
    "    print(\"Old Price: \" +old_price)\n",
    "    print(\"New price: \" +new_price)\n",
    "    print(\"Discount offer: \" +discount)\n",
    "    print(\"\\n\")\n",
    "    f.write(Product + \",\" + old_price + \",\" + new_price + \",\" + discount + \"\\n\")\n"
   ]
  },
  {
   "cell_type": "code",
   "execution_count": 21,
   "metadata": {},
   "outputs": [],
   "source": [
    "f.close()"
   ]
  },
  {
   "cell_type": "code",
   "execution_count": null,
   "metadata": {},
   "outputs": [],
   "source": []
  }
 ],
 "metadata": {
  "kernelspec": {
   "display_name": "Python 3",
   "language": "python",
   "name": "python3"
  },
  "language_info": {
   "codemirror_mode": {
    "name": "ipython",
    "version": 3
   },
   "file_extension": ".py",
   "mimetype": "text/x-python",
   "name": "python",
   "nbconvert_exporter": "python",
   "pygments_lexer": "ipython3",
   "version": "3.6.5"
  }
 },
 "nbformat": 4,
 "nbformat_minor": 2
}
