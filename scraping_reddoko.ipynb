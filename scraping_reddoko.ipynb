{
 "cells": [
  {
   "cell_type": "code",
   "execution_count": 132,
   "metadata": {},
   "outputs": [],
   "source": [
    "from bs4 import BeautifulSoup as soup"
   ]
  },
  {
   "cell_type": "code",
   "execution_count": 133,
   "metadata": {},
   "outputs": [],
   "source": [
    "from urllib.request import urlopen as uReq"
   ]
  },
  {
   "cell_type": "code",
   "execution_count": 134,
   "metadata": {},
   "outputs": [],
   "source": [
    "my_url = 'https://www.reddoko.com/search?keyword=samsung'"
   ]
  },
  {
   "cell_type": "code",
   "execution_count": 135,
   "metadata": {},
   "outputs": [],
   "source": [
    "uClient = uReq(my_url)\n",
    "page_html = uClient.read()"
   ]
  },
  {
   "cell_type": "code",
   "execution_count": 136,
   "metadata": {},
   "outputs": [],
   "source": [
    "uClient.close()"
   ]
  },
  {
   "cell_type": "code",
   "execution_count": 137,
   "metadata": {},
   "outputs": [],
   "source": [
    "page_soup = soup(page_html, \"html.parser\")"
   ]
  },
  {
   "cell_type": "code",
   "execution_count": 138,
   "metadata": {},
   "outputs": [
    {
     "name": "stdout",
     "output_type": "stream",
     "text": [
      "40\n"
     ]
    }
   ],
   "source": [
    "containers = page_soup.findAll(\"div\", {\"class\": \"productinfo\"})\n",
    "print(len(containers))"
   ]
  },
  {
   "cell_type": "code",
   "execution_count": 139,
   "metadata": {},
   "outputs": [
    {
     "name": "stdout",
     "output_type": "stream",
     "text": [
      "<div class=\"productinfo\">\n",
      " <div class=\"product-image-block\">\n",
      "  <a class=\"product_data-layer reddoko-single_product\" data-count=\"1\" data-product-layer=\"{&quot;id&quot;:7565,&quot;name&quot;:&quot;Samsung Galaxy J Max Tablet&quot;,&quot;slug&quot;:&quot;samsung-galaxy-j-max-tablet&quot;,&quot;description&quot;:&quot;&lt;p&gt;&amp;nbsp;&lt;\\/p&gt;\\r\\n&lt;ul&gt;\\r\\n&lt;li&gt;&lt;span class=\\&quot;a-list-item\\&quot;&gt; 8MP primary camera with geo-tagging, touch focus, face detection, HDR, panorama and 2MP front facing camera &lt;\\/span&gt;&lt;\\/li&gt;\\r\\n&lt;li&gt;&lt;span class=\\&quot;a-list-item\\&quot;&gt; 17.78 centimeters (7-inch) TFT capacitive touchscreen with 800 x 1280 pixels resolution, 216 ppi pixel density and 16M color support &lt;\\/span&gt;&lt;\\/li&gt;\\r\\n&lt;li&gt;&lt;span class=\\&quot;a-list-item\\&quot;&gt; Android v5.1 Lollipop operating system with 1.5GHz Spreadtrum SC8830 Cortex-A7 quad core processor, Mali-400MP2 GPU, 1.5GB RAM, 8GB internal memory expandable up to 256GB and dual sim (nano+nano) dual-standby (4G+3G) &lt;\\/span&gt;&lt;\\/li&gt;\\r\\n&lt;li&gt;&lt;span class=\\&quot;a-list-item\\&quot;&gt; 4000mAH lithium-ion battery providing talk-time of 21 hours and standby time of 87 hours &lt;\\/span&gt;&lt;\\/li&gt;\\r\\n&lt;\\/ul&gt;\\r\\n&lt;div class=\\&quot;apm-eventhirdcol apm-floatleft\\&quot;&gt;\\r\\n&lt;h4 class=\\&quot;a-spacing-mini\\&quot;&gt;Galaxy J - Live it max&lt;\\/h4&gt;\\r\\n&lt;p&gt;Presenting the all-new Galaxy J Max. With a 17.77cm WXGA TFT screen, 4000mAh battery and a host of other features that take you to the next level of entertainment.&lt;\\/p&gt;\\r\\n&lt;div class=\\&quot;apm-eventhirdcol apm-floatleft\\&quot;&gt;\\r\\n&lt;h4 class=\\&quot;a-spacing-mini\\&quot;&gt;Bigger. Better. Max&lt;\\/h4&gt;\\r\\n&lt;p&gt;Whether it&amp;rsquo;s movies or games, the Galaxy J Max puts you right in the heart of the action. With a slimmer and lightweight design, it brings every moment to life on a stunning 17.77cm WXGA TFT screen. And always keeps you at the edge of your seat.&lt;\\/p&gt;\\r\\n&lt;div class=\\&quot;apm-eventhirdcol apm-floatleft\\&quot;&gt;\\r\\n&lt;h4 class=\\&quot;a-spacing-mini\\&quot;&gt;Always in Sync&lt;\\/h4&gt;\\r\\n&lt;p&gt;Go wireless when you&amp;rsquo;re on the go. The Galaxy J Max comes with a Bluetooth headset in the box so you can stay connected to your smart device seamlessly.&lt;\\/p&gt;\\r\\n&lt;div class=\\&quot;apm-eventhirdcol apm-floatleft\\&quot;&gt;\\r\\n&lt;h4 class=\\&quot;a-spacing-mini\\&quot;&gt;All the Power you Need&lt;\\/h4&gt;\\r\\n&lt;p&gt;A whopping 4000mAh battery powers the Galaxy J Max and gives you uninterrupted use for up to 9 hours. Now enjoy more of what you love, without worrying about the battery drain. Because the Galaxy J Max is there to keep you entertained.&lt;\\/p&gt;\\r\\n&lt;div class=\\&quot;apm-eventhirdcol apm-floatleft\\&quot;&gt;\\r\\n&lt;h4 class=\\&quot;a-spacing-mini\\&quot;&gt;Ultimate 4G Experience&lt;\\/h4&gt;\\r\\n&lt;p&gt;The LTE-enabled Galaxy J Max lets you browse, stream and play at incredible 4G speed. And while you enjoy your favourite content, you can save your 4G data usage by up to 50% with the Ultra Data Saving Mode.&lt;\\/p&gt;\\r\\n&lt;div class=\\&quot;apm-eventhirdcol apm-floatleft\\&quot;&gt;\\r\\n&lt;h4 class=\\&quot;a-spacing-mini\\&quot;&gt;Entertainment on Demand&lt;\\/h4&gt;\\r\\n&lt;p&gt;Say goodbye to boredom. Now you can enjoy the latest blockbusters, TV shows and music videos with a 1 year subscription* to Viu, a premium video on demand streaming service.&lt;\\/p&gt;\\r\\n&lt;\\/div&gt;\\r\\n&lt;\\/div&gt;\\r\\n&lt;\\/div&gt;\\r\\n&lt;\\/div&gt;\\r\\n&lt;\\/div&gt;\\r\\n&lt;\\/div&gt;\\r\\n&lt;p&gt;&amp;nbsp;&lt;\\/p&gt;&quot;,&quot;sku&quot;:&quot;S44-13&quot;,&quot;seller_code&quot;:&quot;jmax&quot;,&quot;note&quot;:&quot;&quot;,&quot;price&quot;:18000,&quot;brand_detail&quot;:{&quot;id&quot;:8,&quot;name&quot;:&quot;Samsung&quot;,&quot;slug&quot;:&quot;samsung&quot;,&quot;description&quot;:&quot;&lt;h1&gt;Why Choose One of the Samsung Galaxy Phones?&lt;\\/h1&gt;\\r\\n&lt;p&gt;Samsung Galaxy phones are among the most popular smartphones in the world because of their smooth, sleek designs and innovative features. Plus, Galaxy phones utilize the powerful, versatile Android operating system, known for its functionality, and also for its open platform which gives you control, along with the freedom to customize your phone.&lt;\\/p&gt;\\r\\n&lt;p&gt;With every new Samsung phone, you can count on smartphone camera advancements, a faster processor, and tons of fresh, new apps, all aimed at simplifying your life. Recently introduced photography innovations include cameras that launch rapidly and enable you to edit and share photos as soon as you take them. The AMOLED (Active Matrix Organic Light Emitting Diode) screen in Samsung phones is big and bright due to the technology which produces light from each individual pixel so a separate backlight is not required, resulting in better energy efficiency and less light reflection, plus richer contrast levels, brighter colors and deeper blacks. As for sound, each iteration of the Samsung Galaxy phones offers improved audio quality. Plus, Galaxy phones come with a headphone jack, preferred by many who do not want to use an adapter. The battery life of many Samsung cell phone models compares favorably to other smartphones.&lt;\\/p&gt;\\r\\n&lt;h2&gt;Samsung TV- Buy Samsung LED TV online at Best Prices in Nepal&lt;\\/h2&gt;\\r\\n&lt;p&gt;Samsung TV offers you a great way to view all your favorite programs including streaming your favorite series on the internet with its Smart LED TVs. Samsung&amp;rsquo;s LED TVs come with a range of features that don't just make them look stylish in your TV unit but also take your entertainment to the next level. So, if you are planning on buying a new TV, Samsung has a collection of LED TVs that you shouldn't miss having a look at. But before you begin shopping for Samsung LED TVs online, let's look at a few things that you need to keep in mind while buying a new TV such as size, the resolution of the TV, the audio quality, connectivity options.&lt;\\/p&gt;\\r\\n&lt;p&gt;&amp;nbsp;&lt;\\/p&gt;&quot;,&quot;thumbnail&quot;:7588,&quot;meta_title&quot;:&quot;Samsung Mobile Phones, Samsung TVs in Nepal | redDoko.com &quot;,&quot;meta_description&quot;:&quot;&quot;,&quot;meta_keywords&quot;:&quot;&quot;,&quot;created_at&quot;:&quot;2017-07-13 10:16:08&quot;,&quot;updated_at&quot;:&quot;2018-07-20 15:48:09&quot;,&quot;deleted_at&quot;:null},&quot;brand_id&quot;:8,&quot;seller_id&quot;:68,&quot;seller_detail&quot;:{&quot;id&quot;:68,&quot;name&quot;:&quot;appleworldpvtltd&quot;,&quot;display_name&quot;:null,&quot;address&quot;:&quot;Trishakti Marg, Kathmandu 44600, Nepal&quot;,&quot;inventory_location&quot;:&quot;Bagmati, Kathmandu&quot;,&quot;city_id&quot;:2,&quot;description&quot;:&quot;&lt;p&gt;contact person -&amp;nbsp;Niranjan Thakuri&lt;\\/p&gt;&quot;,&quot;zone_id&quot;:1,&quot;comment&quot;:&quot;&quot;,&quot;product_detail&quot;:&quot;Mobile &amp; Accessories&quot;,&quot;user_id&quot;:1221,&quot;phone_number&quot;:&quot;9813834478, 4223232&quot;,&quot;email&quot;:&quot;appleworld546@gmail.com&quot;,&quot;policy_id&quot;:0,&quot;policy_description&quot;:&quot;&quot;,&quot;policy&quot;:&quot;Warranty as per Brand Policy&quot;,&quot;pan_no&quot;:&quot;603564761&quot;,&quot;mobile_number&quot;:null,&quot;lat&quot;:&quot;27.7172453&quot;,&quot;lng&quot;:&quot;85.3239605&quot;,&quot;logo&quot;:null,&quot;created_at&quot;:&quot;2018-01-01 08:22:37&quot;,&quot;updated_at&quot;:&quot;2018-07-27 19:57:50&quot;,&quot;slug&quot;:&quot;appleworldpvtltd&quot;,&quot;custom_design&quot;:0,&quot;deleted_at&quot;:null},&quot;compare_with&quot;:18900,&quot;status&quot;:1,&quot;features&quot;:[{&quot;id&quot;:31376,&quot;feature_id&quot;:85,&quot;feature_name&quot;:&quot;Operating System&quot;,&quot;value&quot;:&quot;Android v5.1 Lollipop&quot;,&quot;product_id&quot;:7565,&quot;created_at&quot;:&quot;2018-05-01 12:17:51&quot;,&quot;updated_at&quot;:&quot;2018-05-01 12:17:51&quot;,&quot;deleted_at&quot;:null},{&quot;id&quot;:31377,&quot;feature_id&quot;:112,&quot;feature_name&quot;:&quot;Screen Size&quot;,&quot;value&quot;:&quot;7 inch&quot;,&quot;product_id&quot;:7565,&quot;created_at&quot;:&quot;2018-05-01 12:18:05&quot;,&quot;updated_at&quot;:&quot;2018-05-01 12:18:05&quot;,&quot;deleted_at&quot;:null},{&quot;id&quot;:31378,&quot;feature_id&quot;:99,&quot;feature_name&quot;:&quot;Processor&quot;,&quot;value&quot;:&quot;1.5GHz Spreadtrum SC8830 Cortex-A7 quad core processor&quot;,&quot;product_id&quot;:7565,&quot;created_at&quot;:&quot;2018-05-01 12:18:21&quot;,&quot;updated_at&quot;:&quot;2018-05-01 12:18:21&quot;,&quot;deleted_at&quot;:null},{&quot;id&quot;:31379,&quot;feature_id&quot;:106,&quot;feature_name&quot;:&quot;Ram&quot;,&quot;value&quot;:&quot;1.5GB RAM&quot;,&quot;product_id&quot;:7565,&quot;created_at&quot;:&quot;2018-05-01 12:18:40&quot;,&quot;updated_at&quot;:&quot;2018-05-01 12:18:40&quot;,&quot;deleted_at&quot;:null},{&quot;id&quot;:31380,&quot;feature_id&quot;:57,&quot;feature_name&quot;:&quot;Internal Storage&quot;,&quot;value&quot;:&quot;8GB&quot;,&quot;product_id&quot;:7565,&quot;created_at&quot;:&quot;2018-05-01 12:18:44&quot;,&quot;updated_at&quot;:&quot;2018-05-01 12:18:44&quot;,&quot;deleted_at&quot;:null},{&quot;id&quot;:31381,&quot;feature_id&quot;:98,&quot;feature_name&quot;:&quot;Primary Camera&quot;,&quot;value&quot;:&quot;8 MP&quot;,&quot;product_id&quot;:7565,&quot;created_at&quot;:&quot;2018-05-01 12:18:56&quot;,&quot;updated_at&quot;:&quot;2018-05-01 12:18:56&quot;,&quot;deleted_at&quot;:null},{&quot;id&quot;:31382,&quot;feature_id&quot;:114,&quot;feature_name&quot;:&quot;Secondary Camera&quot;,&quot;value&quot;:&quot;2 MP&quot;,&quot;product_id&quot;:7565,&quot;created_at&quot;:&quot;2018-05-01 12:19:09&quot;,&quot;updated_at&quot;:&quot;2018-05-01 12:19:09&quot;,&quot;deleted_at&quot;:null},{&quot;id&quot;:34690,&quot;feature_id&quot;:8,&quot;feature_name&quot;:&quot;Brand&quot;,&quot;value&quot;:&quot;Samsung&quot;,&quot;product_id&quot;:7565,&quot;created_at&quot;:&quot;2018-07-02 09:18:53&quot;,&quot;updated_at&quot;:&quot;2018-07-02 09:18:53&quot;,&quot;deleted_at&quot;:null}],&quot;quantity&quot;:2,&quot;categories_detail&quot;:[{&quot;id&quot;:40,&quot;name&quot;:&quot;Mobile &amp; Tablet&quot;,&quot;slug&quot;:&quot;mobile-tablet&quot;,&quot;thumbnail&quot;:null,&quot;description&quot;:&quot;&lt;h1&gt;&lt;strong&gt;Buy mobile phones online in Nepal&lt;\\/strong&gt;&lt;\\/h1&gt;\\r\\n&lt;p&gt;&lt;span style=\\&quot;font-weight: 400;\\&quot;&gt;In the age of technology today, smartphones in Nepal have gained a lot of popularity. Apart from the basic function of making a call or sending a text , the features in a mobile phone is increasing everyday providing quality camera to playing music, navigation etc. Get Mobile phones in Nepal from a huge selection from smartphones to budget mobiles to featured phones to many more. With increase in different features, the increase in brand of the phones cannot be overlooked. &lt;\\/span&gt;&lt;\\/p&gt;\\r\\n&lt;p&gt;&amp;nbsp;&lt;\\/p&gt;\\r\\n&lt;h2&gt;&lt;strong&gt;Shop tablets in Nepal&lt;\\/strong&gt;&lt;\\/h2&gt;\\r\\n&lt;p&gt;&lt;span style=\\&quot;font-weight: 400;\\&quot;&gt;There are wide range of tablets online in Nepal equipped with high-definition touchscreen, high-level performing processors that allows to accomplish multiple tasks with high speed simultaneously. Tablets range from &lt;\\/span&gt;&lt;span style=\\&quot;font-weight: 400;\\&quot;&gt;3G&lt;\\/span&gt;&lt;span style=\\&quot;font-weight: 400;\\&quot;&gt; tablets, 4G tablets, Wi-Fi tablets, calling tablets, Android tablets, Windows tablets, large screen tablets, Apple iPad tablets, kindle tablets and also tablets with expandable storage capacity. So, shop tablets in lowest price in Nepal here at redDoko in just a few clicks!&lt;\\/span&gt;&lt;\\/p&gt;\\r\\n&lt;p&gt;&amp;nbsp;&lt;\\/p&gt;\\r\\n&lt;h2&gt;&lt;strong&gt;Shop from the largest selection of Mobile phones in Nepal&lt;\\/strong&gt;&lt;\\/h2&gt;\\r\\n&lt;p&gt;&lt;span style=\\&quot;font-weight: 400;\\&quot;&gt;With increase in different features, the increase in brand and different price range of the phones cannot be overlooked. From budget phones in Nepal to the latest phone in Nepal, we got you covered. So , come shop with us for different cell phones from Samsung Mobiles, &lt;\\/span&gt;&lt;a href=\\&quot;http:\\/\\/www.gadgetsnow.com\\/mobile-phones\\/Apple\\&quot;&gt;&lt;span style=\\&quot;font-weight: 400;\\&quot;&gt;Apple Mobile Phones&lt;\\/span&gt;&lt;\\/a&gt;&lt;span style=\\&quot;font-weight: 400;\\&quot;&gt;(iPhones),&amp;nbsp;&lt;\\/span&gt;&lt;a href=\\&quot;http:\\/\\/www.gadgetsnow.com\\/mobile-phones\\/HTC\\&quot;&gt;&lt;span style=\\&quot;font-weight: 400;\\&quot;&gt;HTC Mobiles&lt;\\/span&gt;&lt;\\/a&gt;&lt;span style=\\&quot;font-weight: 400;\\&quot;&gt;, &lt;\\/span&gt;&lt;a href=\\&quot;http:\\/\\/www.gadgetsnow.com\\/mobile-phones\\/Nokia\\&quot;&gt;&lt;span style=\\&quot;font-weight: 400;\\&quot;&gt;Nokia Mobiles&lt;\\/span&gt;&lt;\\/a&gt;&lt;span style=\\&quot;font-weight: 400;\\&quot;&gt;,&amp;nbsp;&lt;\\/span&gt;&lt;a href=\\&quot;http:\\/\\/www.gadgetsnow.com\\/mobile-phones\\/Xiaomi\\&quot;&gt;&lt;span style=\\&quot;font-weight: 400;\\&quot;&gt;Xiaomi Mobiles&lt;\\/span&gt;&lt;\\/a&gt;&lt;span style=\\&quot;font-weight: 400;\\&quot;&gt;,&amp;nbsp;&lt;\\/span&gt;&lt;a href=\\&quot;http:\\/\\/www.gadgetsnow.com\\/mobile-phones\\/Vivo\\&quot;&gt;&lt;span style=\\&quot;font-weight: 400;\\&quot;&gt;Vivo Mobiles&lt;\\/span&gt;&lt;\\/a&gt;&lt;span style=\\&quot;font-weight: 400;\\&quot;&gt;,&amp;nbsp;&lt;\\/span&gt;&lt;a href=\\&quot;http:\\/\\/www.gadgetsnow.com\\/mobile-phones\\/Oppo\\&quot;&gt;&lt;span style=\\&quot;font-weight: 400;\\&quot;&gt;Oppo Mobiles&lt;\\/span&gt;&lt;\\/a&gt;&lt;span style=\\&quot;font-weight: 400;\\&quot;&gt;,&amp;nbsp;&lt;\\/span&gt;&lt;a href=\\&quot;http:\\/\\/www.gadgetsnow.com\\/mobile-phones\\/OnePlus\\&quot;&gt;&lt;span style=\\&quot;font-weight: 400;\\&quot;&gt;OnePlus Mobiles&lt;\\/span&gt;&lt;\\/a&gt;&lt;span style=\\&quot;font-weight: 400;\\&quot;&gt;,&amp;nbsp;&lt;\\/span&gt;&lt;a href=\\&quot;http:\\/\\/www.gadgetsnow.com\\/mobile-phones\\/Sony\\&quot;&gt;&lt;span style=\\&quot;font-weight: 400;\\&quot;&gt;Sony Mobiles&lt;\\/span&gt;&lt;\\/a&gt;&lt;span style=\\&quot;font-weight: 400;\\&quot;&gt;,&amp;nbsp;&lt;\\/span&gt;&lt;a href=\\&quot;http:\\/\\/www.gadgetsnow.com\\/mobile-phones\\/LG\\&quot;&gt;&lt;span style=\\&quot;font-weight: 400;\\&quot;&gt;LG Mobiles&lt;\\/span&gt;&lt;\\/a&gt;&lt;span style=\\&quot;font-weight: 400;\\&quot;&gt;&amp;nbsp;and many other brands in Nepal. &lt;\\/span&gt;&lt;\\/p&gt;\\r\\n&lt;p&gt;&amp;nbsp;&lt;\\/p&gt;\\r\\n&lt;h4&gt;&lt;strong&gt;Buy cheap phones in Nepal here at redDoko&lt;\\/strong&gt;&lt;\\/h4&gt;\\r\\n&lt;p&gt;&lt;span style=\\&quot;font-weight: 400;\\&quot;&gt;For those looking for budget phones in Nepal with simple features such as make calls, send and receive phones ,feature phones is the best choice. These phones have features such as long battery life, dual SIM functionality, hardware buttons, and music player, FM radio, Bluetooth connectivity an alarm clock&lt;\\/span&gt;&lt;span style=\\&quot;font-weight: 400;\\&quot;&gt;&lt;br&gt;&lt;\\/span&gt;&lt;span style=\\&quot;font-weight: 400;\\&quot;&gt;and so on. Available in the shape of a bar, these feature phones are generally equipped with keypads and a display screen. These phones are easy to operate and the batteries are quite powerful. &lt;\\/span&gt;&lt;\\/p&gt;\\r\\n&lt;p&gt;&amp;nbsp;&lt;\\/p&gt;\\r\\n&lt;h4&gt;&lt;strong&gt;Buy Latest mobile in Nepal&lt;\\/strong&gt;&lt;\\/h4&gt;\\r\\n&lt;p&gt;&lt;span style=\\&quot;font-weight: 400;\\&quot;&gt;Experience the advancement of mobile phone technology in Nepal like never before. Mobile phones are very in demand in today&amp;rsquo;s technology era and they get outdated every next month or so. To keep up with the changing demands of the user, different manufacture launches different models of mobile phones every month. Get updated with the latest smartphones in Nepal from wide range of phone here at redDoko. From different updated features to the updated price, the best smartphone is just few clicks away. Based on your personal preference, you can also choose the phones running on your preferred Operating System such as iOS , Android and Windows. &lt;\\/span&gt;&lt;\\/p&gt;\\r\\n&lt;p&gt;&lt;br&gt;&lt;br&gt;&lt;\\/p&gt;&quot;,&quot;meta_title&quot;:&quot;Buy Mobile &amp; Tablet Online at Cheap Price in Nepal&quot;,&quot;category_parent_id&quot;:0,&quot;status&quot;:1,&quot;order&quot;:null,&quot;created_at&quot;:&quot;2017-07-13 10:05:12&quot;,&quot;updated_at&quot;:&quot;2017-12-27 23:53:33&quot;,&quot;deleted_at&quot;:null,&quot;meta_description&quot;:&quot;Buy different Mobile &amp; Tablet such as Mobile Phone, Smartphone, Tablet and many more Mobile &amp; Tablet products in affordable price in Nepal.&quot;,&quot;meta_keywords&quot;:&quot;&quot;,&quot;pivot&quot;:{&quot;product_id&quot;:7565,&quot;category_id&quot;:40}},{&quot;id&quot;:42,&quot;name&quot;:&quot;tablet&quot;,&quot;slug&quot;:&quot;tablet&quot;,&quot;thumbnail&quot;:null,&quot;description&quot;:&quot;&lt;p&gt;tablet&lt;\\/p&gt;&quot;,&quot;meta_title&quot;:&quot;Buy Tablet Online at Cheap Price in Nepal&quot;,&quot;category_parent_id&quot;:40,&quot;status&quot;:1,&quot;order&quot;:null,&quot;created_at&quot;:&quot;2017-07-13 10:13:48&quot;,&quot;updated_at&quot;:&quot;2017-10-24 10:14:05&quot;,&quot;deleted_at&quot;:null,&quot;meta_description&quot;:&quot;Buy different Mobile &amp; Tablet such as Mobile Phone, Smartphone, Tablet and many more Mobile &amp; Tablet products in affordable price in Nepal.&quot;,&quot;meta_keywords&quot;:&quot;&quot;,&quot;pivot&quot;:{&quot;product_id&quot;:7565,&quot;category_id&quot;:42}}],&quot;category_slug&quot;:[&quot;mobile-tablet&quot;,&quot;tablet&quot;],&quot;file&quot;:&quot;1525177371.J-Max-Tablet_2.jpg&quot;,&quot;file_id&quot;:17060,&quot;variants&quot;:[],&quot;discount&quot;:null,&quot;discount_detail&quot;:[],&quot;meta_title&quot;:&quot;&quot;,&quot;meta_keywords&quot;:&quot;&quot;,&quot;meta_description&quot;:&quot;&quot;,&quot;json&quot;:&quot;{\\&quot;@context\\&quot;:\\&quot;http:\\\\\\/\\\\\\/schema.org\\&quot;,\\&quot;@type\\&quot;:\\&quot;Product\\&quot;,\\&quot;name\\&quot;:\\&quot;Samsung Galaxy J Max Tablet\\&quot;,\\&quot;image\\&quot;:\\&quot;https:\\\\\\/\\\\\\/www.reddoko.com\\\\\\/uploads\\\\\\/17060\\\\\\/1525177371.J-Max-Tablet_2.jpg\\&quot;,\\&quot;brand\\&quot;:\\&quot;Samsung\\&quot;,\\&quot;category\\&quot;:\\&quot;Mobile &amp; Tablet\\&quot;,\\&quot;description\\&quot;:null,\\&quot;offers\\&quot;:{\\&quot;price\\&quot;:18000,\\&quot;priceCurrency\\&quot;:\\&quot;NPR\\&quot;}}&quot;,&quot;images&quot;:[{&quot;id&quot;:29125,&quot;is_feature&quot;:1,&quot;product_id&quot;:7565,&quot;variant_id&quot;:0,&quot;media_id&quot;:17060,&quot;created_at&quot;:&quot;2018-05-01 12:22:57&quot;,&quot;updated_at&quot;:&quot;2018-05-01 12:22:57&quot;,&quot;deleted_at&quot;:null,&quot;name&quot;:&quot;J-Max-Tablet_2.jpg&quot;,&quot;file&quot;:&quot;1525177371.J-Max-Tablet_2.jpg&quot;},{&quot;id&quot;:29126,&quot;is_feature&quot;:0,&quot;product_id&quot;:7565,&quot;variant_id&quot;:0,&quot;media_id&quot;:17061,&quot;created_at&quot;:&quot;2018-05-01 12:22:57&quot;,&quot;updated_at&quot;:&quot;2018-05-01 12:22:57&quot;,&quot;deleted_at&quot;:null,&quot;name&quot;:&quot;J-Max-Tablet_1.jpg&quot;,&quot;file&quot;:&quot;1525177371.J-Max-Tablet_1.jpg&quot;}],&quot;brand&quot;:{&quot;id&quot;:8,&quot;name&quot;:&quot;Samsung&quot;,&quot;slug&quot;:&quot;samsung&quot;,&quot;description&quot;:&quot;&lt;h1&gt;Why Choose One of the Samsung Galaxy Phones?&lt;\\/h1&gt;\\r\\n&lt;p&gt;Samsung Galaxy phones are among the most popular smartphones in the world because of their smooth, sleek designs and innovative features. Plus, Galaxy phones utilize the powerful, versatile Android operating system, known for its functionality, and also for its open platform which gives you control, along with the freedom to customize your phone.&lt;\\/p&gt;\\r\\n&lt;p&gt;With every new Samsung phone, you can count on smartphone camera advancements, a faster processor, and tons of fresh, new apps, all aimed at simplifying your life. Recently introduced photography innovations include cameras that launch rapidly and enable you to edit and share photos as soon as you take them. The AMOLED (Active Matrix Organic Light Emitting Diode) screen in Samsung phones is big and bright due to the technology which produces light from each individual pixel so a separate backlight is not required, resulting in better energy efficiency and less light reflection, plus richer contrast levels, brighter colors and deeper blacks. As for sound, each iteration of the Samsung Galaxy phones offers improved audio quality. Plus, Galaxy phones come with a headphone jack, preferred by many who do not want to use an adapter. The battery life of many Samsung cell phone models compares favorably to other smartphones.&lt;\\/p&gt;\\r\\n&lt;h2&gt;Samsung TV- Buy Samsung LED TV online at Best Prices in Nepal&lt;\\/h2&gt;\\r\\n&lt;p&gt;Samsung TV offers you a great way to view all your favorite programs including streaming your favorite series on the internet with its Smart LED TVs. Samsung&amp;rsquo;s LED TVs come with a range of features that don't just make them look stylish in your TV unit but also take your entertainment to the next level. So, if you are planning on buying a new TV, Samsung has a collection of LED TVs that you shouldn't miss having a look at. But before you begin shopping for Samsung LED TVs online, let's look at a few things that you need to keep in mind while buying a new TV such as size, the resolution of the TV, the audio quality, connectivity options.&lt;\\/p&gt;\\r\\n&lt;p&gt;&amp;nbsp;&lt;\\/p&gt;&quot;,&quot;thumbnail&quot;:7588,&quot;meta_title&quot;:&quot;Samsung Mobile Phones, Samsung TVs in Nepal | redDoko.com &quot;,&quot;meta_description&quot;:&quot;&quot;,&quot;meta_keywords&quot;:&quot;&quot;,&quot;created_at&quot;:&quot;2017-07-13 10:16:08&quot;,&quot;updated_at&quot;:&quot;2018-07-20 15:48:09&quot;,&quot;deleted_at&quot;:null},&quot;categories&quot;:[{&quot;id&quot;:40,&quot;name&quot;:&quot;Mobile &amp; Tablet&quot;,&quot;slug&quot;:&quot;mobile-tablet&quot;,&quot;thumbnail&quot;:null,&quot;description&quot;:&quot;&lt;h1&gt;&lt;strong&gt;Buy mobile phones online in Nepal&lt;\\/strong&gt;&lt;\\/h1&gt;\\r\\n&lt;p&gt;&lt;span style=\\&quot;font-weight: 400;\\&quot;&gt;In the age of technology today, smartphones in Nepal have gained a lot of popularity. Apart from the basic function of making a call or sending a text , the features in a mobile phone is increasing everyday providing quality camera to playing music, navigation etc. Get Mobile phones in Nepal from a huge selection from smartphones to budget mobiles to featured phones to many more. With increase in different features, the increase in brand of the phones cannot be overlooked. &lt;\\/span&gt;&lt;\\/p&gt;\\r\\n&lt;p&gt;&amp;nbsp;&lt;\\/p&gt;\\r\\n&lt;h2&gt;&lt;strong&gt;Shop tablets in Nepal&lt;\\/strong&gt;&lt;\\/h2&gt;\\r\\n&lt;p&gt;&lt;span style=\\&quot;font-weight: 400;\\&quot;&gt;There are wide range of tablets online in Nepal equipped with high-definition touchscreen, high-level performing processors that allows to accomplish multiple tasks with high speed simultaneously. Tablets range from &lt;\\/span&gt;&lt;span style=\\&quot;font-weight: 400;\\&quot;&gt;3G&lt;\\/span&gt;&lt;span style=\\&quot;font-weight: 400;\\&quot;&gt; tablets, 4G tablets, Wi-Fi tablets, calling tablets, Android tablets, Windows tablets, large screen tablets, Apple iPad tablets, kindle tablets and also tablets with expandable storage capacity. So, shop tablets in lowest price in Nepal here at redDoko in just a few clicks!&lt;\\/span&gt;&lt;\\/p&gt;\\r\\n&lt;p&gt;&amp;nbsp;&lt;\\/p&gt;\\r\\n&lt;h2&gt;&lt;strong&gt;Shop from the largest selection of Mobile phones in Nepal&lt;\\/strong&gt;&lt;\\/h2&gt;\\r\\n&lt;p&gt;&lt;span style=\\&quot;font-weight: 400;\\&quot;&gt;With increase in different features, the increase in brand and different price range of the phones cannot be overlooked. From budget phones in Nepal to the latest phone in Nepal, we got you covered. So , come shop with us for different cell phones from Samsung Mobiles, &lt;\\/span&gt;&lt;a href=\\&quot;http:\\/\\/www.gadgetsnow.com\\/mobile-phones\\/Apple\\&quot;&gt;&lt;span style=\\&quot;font-weight: 400;\\&quot;&gt;Apple Mobile Phones&lt;\\/span&gt;&lt;\\/a&gt;&lt;span style=\\&quot;font-weight: 400;\\&quot;&gt;(iPhones),&amp;nbsp;&lt;\\/span&gt;&lt;a href=\\&quot;http:\\/\\/www.gadgetsnow.com\\/mobile-phones\\/HTC\\&quot;&gt;&lt;span style=\\&quot;font-weight: 400;\\&quot;&gt;HTC Mobiles&lt;\\/span&gt;&lt;\\/a&gt;&lt;span style=\\&quot;font-weight: 400;\\&quot;&gt;, &lt;\\/span&gt;&lt;a href=\\&quot;http:\\/\\/www.gadgetsnow.com\\/mobile-phones\\/Nokia\\&quot;&gt;&lt;span style=\\&quot;font-weight: 400;\\&quot;&gt;Nokia Mobiles&lt;\\/span&gt;&lt;\\/a&gt;&lt;span style=\\&quot;font-weight: 400;\\&quot;&gt;,&amp;nbsp;&lt;\\/span&gt;&lt;a href=\\&quot;http:\\/\\/www.gadgetsnow.com\\/mobile-phones\\/Xiaomi\\&quot;&gt;&lt;span style=\\&quot;font-weight: 400;\\&quot;&gt;Xiaomi Mobiles&lt;\\/span&gt;&lt;\\/a&gt;&lt;span style=\\&quot;font-weight: 400;\\&quot;&gt;,&amp;nbsp;&lt;\\/span&gt;&lt;a href=\\&quot;http:\\/\\/www.gadgetsnow.com\\/mobile-phones\\/Vivo\\&quot;&gt;&lt;span style=\\&quot;font-weight: 400;\\&quot;&gt;Vivo Mobiles&lt;\\/span&gt;&lt;\\/a&gt;&lt;span style=\\&quot;font-weight: 400;\\&quot;&gt;,&amp;nbsp;&lt;\\/span&gt;&lt;a href=\\&quot;http:\\/\\/www.gadgetsnow.com\\/mobile-phones\\/Oppo\\&quot;&gt;&lt;span style=\\&quot;font-weight: 400;\\&quot;&gt;Oppo Mobiles&lt;\\/span&gt;&lt;\\/a&gt;&lt;span style=\\&quot;font-weight: 400;\\&quot;&gt;,&amp;nbsp;&lt;\\/span&gt;&lt;a href=\\&quot;http:\\/\\/www.gadgetsnow.com\\/mobile-phones\\/OnePlus\\&quot;&gt;&lt;span style=\\&quot;font-weight: 400;\\&quot;&gt;OnePlus Mobiles&lt;\\/span&gt;&lt;\\/a&gt;&lt;span style=\\&quot;font-weight: 400;\\&quot;&gt;,&amp;nbsp;&lt;\\/span&gt;&lt;a href=\\&quot;http:\\/\\/www.gadgetsnow.com\\/mobile-phones\\/Sony\\&quot;&gt;&lt;span style=\\&quot;font-weight: 400;\\&quot;&gt;Sony Mobiles&lt;\\/span&gt;&lt;\\/a&gt;&lt;span style=\\&quot;font-weight: 400;\\&quot;&gt;,&amp;nbsp;&lt;\\/span&gt;&lt;a href=\\&quot;http:\\/\\/www.gadgetsnow.com\\/mobile-phones\\/LG\\&quot;&gt;&lt;span style=\\&quot;font-weight: 400;\\&quot;&gt;LG Mobiles&lt;\\/span&gt;&lt;\\/a&gt;&lt;span style=\\&quot;font-weight: 400;\\&quot;&gt;&amp;nbsp;and many other brands in Nepal. &lt;\\/span&gt;&lt;\\/p&gt;\\r\\n&lt;p&gt;&amp;nbsp;&lt;\\/p&gt;\\r\\n&lt;h4&gt;&lt;strong&gt;Buy cheap phones in Nepal here at redDoko&lt;\\/strong&gt;&lt;\\/h4&gt;\\r\\n&lt;p&gt;&lt;span style=\\&quot;font-weight: 400;\\&quot;&gt;For those looking for budget phones in Nepal with simple features such as make calls, send and receive phones ,feature phones is the best choice. These phones have features such as long battery life, dual SIM functionality, hardware buttons, and music player, FM radio, Bluetooth connectivity an alarm clock&lt;\\/span&gt;&lt;span style=\\&quot;font-weight: 400;\\&quot;&gt;&lt;br&gt;&lt;\\/span&gt;&lt;span style=\\&quot;font-weight: 400;\\&quot;&gt;and so on. Available in the shape of a bar, these feature phones are generally equipped with keypads and a display screen. These phones are easy to operate and the batteries are quite powerful. &lt;\\/span&gt;&lt;\\/p&gt;\\r\\n&lt;p&gt;&amp;nbsp;&lt;\\/p&gt;\\r\\n&lt;h4&gt;&lt;strong&gt;Buy Latest mobile in Nepal&lt;\\/strong&gt;&lt;\\/h4&gt;\\r\\n&lt;p&gt;&lt;span style=\\&quot;font-weight: 400;\\&quot;&gt;Experience the advancement of mobile phone technology in Nepal like never before. Mobile phones are very in demand in today&amp;rsquo;s technology era and they get outdated every next month or so. To keep up with the changing demands of the user, different manufacture launches different models of mobile phones every month. Get updated with the latest smartphones in Nepal from wide range of phone here at redDoko. From different updated features to the updated price, the best smartphone is just few clicks away. Based on your personal preference, you can also choose the phones running on your preferred Operating System such as iOS , Android and Windows. &lt;\\/span&gt;&lt;\\/p&gt;\\r\\n&lt;p&gt;&lt;br&gt;&lt;br&gt;&lt;\\/p&gt;&quot;,&quot;meta_title&quot;:&quot;Buy Mobile &amp; Tablet Online at Cheap Price in Nepal&quot;,&quot;category_parent_id&quot;:0,&quot;status&quot;:1,&quot;order&quot;:null,&quot;created_at&quot;:&quot;2017-07-13 10:05:12&quot;,&quot;updated_at&quot;:&quot;2017-12-27 23:53:33&quot;,&quot;deleted_at&quot;:null,&quot;meta_description&quot;:&quot;Buy different Mobile &amp; Tablet such as Mobile Phone, Smartphone, Tablet and many more Mobile &amp; Tablet products in affordable price in Nepal.&quot;,&quot;meta_keywords&quot;:&quot;&quot;,&quot;pivot&quot;:{&quot;product_id&quot;:7565,&quot;category_id&quot;:40}},{&quot;id&quot;:42,&quot;name&quot;:&quot;tablet&quot;,&quot;slug&quot;:&quot;tablet&quot;,&quot;thumbnail&quot;:null,&quot;description&quot;:&quot;&lt;p&gt;tablet&lt;\\/p&gt;&quot;,&quot;meta_title&quot;:&quot;Buy Tablet Online at Cheap Price in Nepal&quot;,&quot;category_parent_id&quot;:40,&quot;status&quot;:1,&quot;order&quot;:null,&quot;created_at&quot;:&quot;2017-07-13 10:13:48&quot;,&quot;updated_at&quot;:&quot;2017-10-24 10:14:05&quot;,&quot;deleted_at&quot;:null,&quot;meta_description&quot;:&quot;Buy different Mobile &amp; Tablet such as Mobile Phone, Smartphone, Tablet and many more Mobile &amp; Tablet products in affordable price in Nepal.&quot;,&quot;meta_keywords&quot;:&quot;&quot;,&quot;pivot&quot;:{&quot;product_id&quot;:7565,&quot;category_id&quot;:42}}]}\" href=\"https://www.reddoko.com/product/samsung-galaxy-j-max-tablet/s/S44-13\" target=\"_blank\">\n",
      "   <img alt=\"Samsung Galaxy J Max Tablet\" class=\"feature_image\" src=\"https://www.reddoko.com/uploads/17060/x300x3001525177371.J-Max-Tablet_2.jpg.pagespeed.ic.qt_HQuNdJ-.jpg\">\n",
      "    <span class=\"product-list--offer\">\n",
      "     Discounted\n",
      "    </span>\n",
      "   </img>\n",
      "  </a>\n",
      " </div>\n",
      " <a href=\"https://www.reddoko.com/product/samsung-galaxy-j-max-tablet/s/S44-13\" target=\"_blank\">\n",
      "  <div class=\"product-list--name\">\n",
      "   <p title=\"Samsung Galaxy J Max Tablet\">\n",
      "    Samsung Galaxy J Max Tablet\n",
      "   </p>\n",
      "  </div>\n",
      "  <span class=\"product-list--brand\">\n",
      "   By - Samsung\n",
      "  </span>\n",
      " </a>\n",
      " <div>\n",
      "  <span>\n",
      "   Rs 18000\n",
      "  </span>\n",
      "  <span class=\"product_price-old\">\n",
      "   <strike>\n",
      "    Rs 18900\n",
      "   </strike>\n",
      "  </span>\n",
      "  <p>\n",
      "   <span class=\"price_offer\">\n",
      "    5 % off\n",
      "   </span>\n",
      "   Save 900\n",
      "  </p>\n",
      " </div>\n",
      "</div>\n",
      "\n"
     ]
    }
   ],
   "source": [
    "print(soup.prettify(containers[0]))"
   ]
  },
  {
   "cell_type": "code",
   "execution_count": 140,
   "metadata": {},
   "outputs": [],
   "source": [
    "container = containers[0]"
   ]
  },
  {
   "cell_type": "code",
   "execution_count": 141,
   "metadata": {},
   "outputs": [],
   "source": [
    "Product = (container.p[\"title\"])"
   ]
  },
  {
   "cell_type": "code",
   "execution_count": 142,
   "metadata": {},
   "outputs": [],
   "source": [
    "old_price = container.findAll(\"strike\")"
   ]
  },
  {
   "cell_type": "code",
   "execution_count": 143,
   "metadata": {},
   "outputs": [
    {
     "name": "stdout",
     "output_type": "stream",
     "text": [
      "Rs 18900 \n"
     ]
    }
   ],
   "source": [
    "print(old_price[0].text)"
   ]
  },
  {
   "cell_type": "code",
   "execution_count": 144,
   "metadata": {},
   "outputs": [],
   "source": [
    "new_price = container.findAll(\"span\",{\"class\": \"\"})"
   ]
  },
  {
   "cell_type": "code",
   "execution_count": 145,
   "metadata": {},
   "outputs": [
    {
     "name": "stdout",
     "output_type": "stream",
     "text": [
      "Rs 18000\n"
     ]
    }
   ],
   "source": [
    "print(new_price[0].text)"
   ]
  },
  {
   "cell_type": "code",
   "execution_count": 146,
   "metadata": {},
   "outputs": [],
   "source": [
    "discount = container.findAll(\"span\",{\"class\": \"price_offer\"})"
   ]
  },
  {
   "cell_type": "code",
   "execution_count": 147,
   "metadata": {},
   "outputs": [
    {
     "name": "stdout",
     "output_type": "stream",
     "text": [
      "5 % off\n"
     ]
    }
   ],
   "source": [
    "print(discount[0].text)"
   ]
  },
  {
   "cell_type": "code",
   "execution_count": 169,
   "metadata": {},
   "outputs": [],
   "source": [
    "filename = \"product.csv\""
   ]
  },
  {
   "cell_type": "code",
   "execution_count": 170,
   "metadata": {},
   "outputs": [],
   "source": [
    "f = open(filename, \"w\")"
   ]
  },
  {
   "cell_type": "code",
   "execution_count": 171,
   "metadata": {},
   "outputs": [],
   "source": [
    "headers = \"Product, Old price, New_price, Discount\\n\""
   ]
  },
  {
   "cell_type": "code",
   "execution_count": 172,
   "metadata": {},
   "outputs": [
    {
     "data": {
      "text/plain": [
       "40"
      ]
     },
     "execution_count": 172,
     "metadata": {},
     "output_type": "execute_result"
    }
   ],
   "source": [
    "f.write(headers)"
   ]
  },
  {
   "cell_type": "code",
   "execution_count": 173,
   "metadata": {},
   "outputs": [
    {
     "name": "stdout",
     "output_type": "stream",
     "text": [
      "Product: Samsung Galaxy J Max Tablet\n",
      "Old Price: Rs 18900\n",
      "New price: Rs 18000\n",
      "Discount offer: 5 % off\n",
      "\n",
      "\n",
      "Product: Samsung Galaxy A6 (Black, 32GB)\n",
      "Old Price: Rs 39890\n",
      "New price: Rs 37895\n",
      "Discount offer: 5 % off\n",
      "\n",
      "\n",
      "Product: Samsung Microwave Convection 21ltr\n",
      "Old Price: Rs 23490\n",
      "New price: Rs 22500\n",
      "Discount offer: 4 % off\n",
      "\n",
      "\n",
      "Product: Samsung 28 L Convection Microwave Oven (MC28H5025VK, Black\n",
      "Old Price: Rs 29990\n",
      "New price: Rs 26991\n",
      "Discount offer: 10 % off\n",
      "\n",
      "\n",
      "Product: Samsung Cannister Vacuum Cleaner (VC18M3110VB)-1800 W\n",
      "Old Price: Rs 11590\n",
      "New price: Rs 10431\n",
      "Discount offer: 10 % off\n",
      "\n",
      "\n",
      "Product: Samsung RR19J2103SE Standing Refrigerator 192L- Silver\n",
      "Old Price: Rs 26990\n",
      "New price: Rs 22900\n",
      "Discount offer: 15 % off\n",
      "\n",
      "\n",
      "Product: Samsung UA24H4003 24\" HD LED TV\n",
      "Old Price: Rs 23390\n",
      "New price: Rs 20160\n",
      "Discount offer: 14 % off\n",
      "\n",
      "\n",
      "Product: Samsung UA43K5100 43\" Full HD LED TV\n",
      "Old Price: Rs 76490\n",
      "New price: Rs 55500\n",
      "Discount offer: 27 % off\n",
      "\n",
      "\n",
      "Product: Samsung UA40K5100ARSHE 40\" Full HD LED TV\n",
      "Old Price: Rs 66990\n",
      "New price: Rs 51250\n",
      "Discount offer: 23 % off\n",
      "\n",
      "\n",
      "Product: Samsung UA32M4100ARSHE 32\" HD LED TV\n",
      "Old Price: Rs 44990\n",
      "New price: Rs 35200\n",
      "Discount offer: 22 % off\n",
      "\n",
      "\n",
      "Product: Samsung UA55M5500ARSHE 55\" Full HD Smart TV\n",
      "Old Price: Rs 179990\n",
      "New price: Rs 133300\n",
      "Discount offer: 26 % off\n",
      "\n",
      "\n",
      "Product: Samsung Galaxy Note 8 (6GB RAM, 64GB ROM)\n",
      "Old Price: Rs 96900\n",
      "New price: Rs 92055\n",
      "Discount offer: 5 % off\n",
      "\n",
      "\n",
      "Product: Samsung Galaxy J6 (2018) (3GB /32 GB)\n",
      "Old Price: Rs 24790\n",
      "New price: Rs 23550\n",
      "Discount offer: 5 % off\n",
      "\n",
      "\n",
      "Product: Samsung Microwave, 23 Litre, 800 Watt, Black\n",
      "Old Price: Rs 15990\n",
      "New price: Rs 14391\n",
      "Discount offer: 10 % off\n",
      "\n",
      "\n",
      "Product: Samsung MO Convection 21Ltr (CE76JD-CR)\n",
      "Old Price: Rs 22990\n",
      "New price: Rs 22500\n",
      "Discount offer: 2 % off\n",
      "\n",
      "\n",
      "Product: Samsung Refrigerator Single Door with Stand\n",
      "Old Price: Rs 32990\n",
      "New price: Rs 27500\n",
      "Discount offer: 17 % off\n",
      "\n",
      "\n",
      "Product: Samsung 32M4000 32\" HD LED TV\n",
      "Old Price: Rs 39900\n",
      "New price: Rs 32398\n",
      "Discount offer: 19 % off\n",
      "\n",
      "\n",
      "Product: Samsung J1 Ace Smartphones - J110H\n",
      "Old Price: Rs 9390\n",
      "New price: Rs 8921\n",
      "Discount offer: 5 % off\n",
      "\n",
      "\n",
      "Product: Samsung Galaxy S8+ (4GB RAM, 64GB ROM)\n",
      "Old Price: Rs 79900\n",
      "New price: Rs 75905\n",
      "Discount offer: 5 % off\n",
      "\n",
      "\n",
      "Product: Samsung Galaxy J7 Nxt (32GB) (3GB RAM)\n",
      "Old Price: Rs 20990\n",
      "New price: Rs 19940\n",
      "Discount offer: 5 % off\n",
      "\n",
      "\n",
      "Product: Samsung UA32FH4003 32\" HD Ready LED TV\n",
      "Old Price: Rs 35390\n",
      "New price: Rs 29900\n",
      "Discount offer: 16 % off\n",
      "\n",
      "\n",
      "Product: Samsung Galaxy A6 Plus (4GB RAM, 64GB)\n",
      "Old Price: Rs 44390\n",
      "New price: Rs 42170\n",
      "Discount offer: 5 % off\n",
      "\n",
      "\n",
      "Product: Samsung UA32M4100ARSHE 32 Inch HD LED TV\n",
      "Old Price: Rs 44990\n",
      "New price: Rs 35200\n",
      "Discount offer: 22 % off\n",
      "\n",
      "\n",
      "Product: Samsung RR22M284ZR3/U3 Refrigerator With Stand- 212Ltr\n",
      "Old Price: Rs 39990\n",
      "New price: Rs 34791\n",
      "Discount offer: 13 % off\n",
      "\n",
      "\n",
      "Product: Samsung UA32M4000ARSHE 32\" HD LED TV Black\n",
      "Old Price: Rs 39990\n",
      "New price: Rs 32000\n",
      "Discount offer: 20 % off\n",
      "\n",
      "\n",
      "Product: Samsung UA32M4010ARSHE 32\" HD LED TV - (Black)\n",
      "Old Price: Rs 39990\n",
      "New price: Rs 32000\n",
      "Discount offer: 20 % off\n",
      "\n",
      "\n",
      "Product: Samsung 40M5000 40\" Full HD LED TV\n",
      "Old Price: Rs 66990\n",
      "New price: Rs 51798\n",
      "Discount offer: 23 % off\n",
      "\n",
      "\n",
      "Product: Samsung 32M4100 32\" HD Ready LED TV\n",
      "Old Price: Rs 44990\n",
      "New price: Rs 35599\n",
      "Discount offer: 21 % off\n",
      "\n",
      "\n",
      "Product: Samsung UA32M4300ARSHE 32'' Smart LED TV - Black\n",
      "Old Price: Rs 50990\n",
      "New price: Rs 41700\n",
      "Discount offer: 18 % off\n",
      "\n",
      "\n",
      "Product: Samsung Galaxy J7 Prime 2 (4GB RAM, 64GB)-Black\n",
      "Old Price: Rs 27990\n",
      "New price: Rs 26590\n",
      "Discount offer: 5 % off\n",
      "\n",
      "\n",
      "Product: Samsung Galaxy S8 (4GB RAM, 64GB ROM)-Midnight Black\n",
      "Old Price: Rs 69900\n",
      "New price: Rs 66405\n",
      "Discount offer: 5 % off\n",
      "\n",
      "\n",
      "Product: Samsung Galaxy Note 8 (6GB Ram, 64GB Rom)-Midnight Black\n",
      "Old Price: Rs 96900\n",
      "New price: Rs 92055\n",
      "Discount offer: 5 % off\n",
      "\n",
      "\n",
      "Product: Samsung UA55K6300ARSHE 55 Inch Curved Full HD Smart TV\n",
      "Old Price: Rs 214990\n",
      "New price: Rs 150200\n",
      "Discount offer: 30 % off\n",
      "\n",
      "\n",
      "Product: Samsung UA32M4300 32 Inch Smart LED TV - Black\n",
      "Old Price: Rs 50990\n",
      "New price: Rs 41500\n",
      "Discount offer: 19 % off\n",
      "\n",
      "\n",
      "Product: Samsung 24 Inch HD Flat TV H4003 Series 4\n",
      "Old Price: Rs 23390\n",
      "New price: Rs 20000\n",
      "Discount offer: 14 % off\n",
      "\n",
      "\n",
      "Product: Samsung 50 inch UHD 4K Smart TV MU6100 Series 6\n",
      "Old Price: Rs 159990\n",
      "New price: Rs 127264\n",
      "Discount offer: 20 % off\n",
      "\n",
      "\n",
      "Product: Samsung UA32M4000ARSHE 32 Inch HD LED TV Black\n",
      "Old Price: Rs 39990\n",
      "New price: Rs 32398\n",
      "Discount offer: 19 % off\n",
      "\n",
      "\n",
      "Product: Samsung 43 Inch Full HD Flat Smart TV K5300 Series 5\n",
      "Old Price: Rs 79990\n",
      "New price: Rs 63729\n",
      "Discount offer: 20 % off\n",
      "\n",
      "\n",
      "Product: Samsung UA32K4000ARSHE 32 Inch 768p HD Flat LED TV Black\n",
      "Old Price: Rs 39990\n",
      "New price: Rs 32000\n",
      "Discount offer: 20 % off\n",
      "\n",
      "\n",
      "Product: Samsung UA50KU6000ARSHE 50 Inch Ultra HD Smart TV\n",
      "Old Price: Rs 159990\n",
      "New price: Rs 122650\n",
      "Discount offer: 23 % off\n",
      "\n",
      "\n"
     ]
    }
   ],
   "source": [
    "for container in containers:\n",
    "    Product = (container.p[\"title\"])\n",
    "    old_price = container.findAll(\"strike\")\n",
    "    old_price = old_price[0].text.strip()\n",
    "    new_price = container.findAll(\"span\",{\"class\": \"\"})\n",
    "    new_price = new_price[0].text.strip()\n",
    "    discount = container.findAll(\"span\",{\"class\": \"price_offer\"})\n",
    "    discount = discount[0].text\n",
    "    print(\"Product: \" +Product)\n",
    "    print(\"Old Price: \" +old_price)\n",
    "    print(\"New price: \" +new_price)\n",
    "    print(\"Discount offer: \" +discount)\n",
    "    print(\"\\n\")\n",
    "    f.write(Product + \",\" + old_price + \",\" + new_price + \",\" + discount + \"\\n\")\n"
   ]
  },
  {
   "cell_type": "code",
   "execution_count": 174,
   "metadata": {},
   "outputs": [],
   "source": [
    "f.close()"
   ]
  },
  {
   "cell_type": "code",
   "execution_count": null,
   "metadata": {},
   "outputs": [],
   "source": []
  }
 ],
 "metadata": {
  "kernelspec": {
   "display_name": "Python 3",
   "language": "python",
   "name": "python3"
  },
  "language_info": {
   "codemirror_mode": {
    "name": "ipython",
    "version": 3
   },
   "file_extension": ".py",
   "mimetype": "text/x-python",
   "name": "python",
   "nbconvert_exporter": "python",
   "pygments_lexer": "ipython3",
   "version": "3.6.5"
  }
 },
 "nbformat": 4,
 "nbformat_minor": 2
}
